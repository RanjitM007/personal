{
 "cells": [
  {
   "cell_type": "code",
   "execution_count": 1,
   "id": "41d0dc6e",
   "metadata": {},
   "outputs": [],
   "source": [
    "import speech_recognition as sr\n",
    "import pyttsx3#convert the audio to text\n",
    "import pywhatkit#bundle of kitt of take the Q from user\n",
    "import datetime\n",
    "import wikipedia\n",
    "import pyjokes#from jiokes (python joke)"
   ]
  },
  {
   "cell_type": "code",
   "execution_count": 2,
   "id": "005a4679",
   "metadata": {},
   "outputs": [],
   "source": [
    "listener=sr.Recognizer()#here we are listening\n",
    "engine=pyttsx3.init()#converting the voice into text\n",
    "voices=engine.getProperty('voices')#setting the perporty of Alexa(talking bot)\n",
    "engine.setProperty('voice',voices[1].id)#0 for male and 1 for female voice"
   ]
  },
  {
   "cell_type": "code",
   "execution_count": 3,
   "id": "f34c33d1",
   "metadata": {},
   "outputs": [],
   "source": [
    "#defination for talk of bot\n",
    "def talk(text):\n",
    "    engine.say(text)\n",
    "    engine.runAndWait()"
   ]
  },
  {
   "cell_type": "code",
   "execution_count": 4,
   "id": "b32dce30",
   "metadata": {},
   "outputs": [],
   "source": [
    "#command taking from user as Voice\n",
    "def take_command():\n",
    "    try:\n",
    "        with sr.Microphone() as source:#listening from the local system\n",
    "            print('listening.....')\n",
    "            voice=listener.listen(source)#saving the voice signal in voice variable\n",
    "            command=listener.recognize_google(voice)#converting sound singnal in text\n",
    "            command=command.lower()\n",
    "            if 'bot' in command:#waht yours bot name (ranjit,alexa,disha like this)#checking whether the command in the bot\n",
    "                command=command.replace('bot','')\n",
    "                print(command)\n",
    "    except:\n",
    "        print(\" I am unable to listen..kindly speak again\")\n",
    "    return command"
   ]
  },
  {
   "cell_type": "code",
   "execution_count": 5,
   "id": "6333ae45",
   "metadata": {},
   "outputs": [],
   "source": [
    "def run_bot():\n",
    "    wh=['who','why','how','when','where','whome','what']\n",
    "    whr=['treading','corona']\n",
    "    mind=['play','fresh']\n",
    "    command=take_command()\n",
    "    print(command)\n",
    "    if mind in command:\n",
    "        song=command.replace('play','')\n",
    "        talk('playing '+song)\n",
    "        pywhatkit.playonyt(song)\n",
    "    elif 'time' in command:\n",
    "        time=datetime.datetime.now().stftime('%I:%M %P')\n",
    "        talk(\"current time is \"+time)\n",
    "    elif \"who\" in command:\n",
    "        person=command.replace('who','')\n",
    "        info=wikipedia.summary(person,5)\n",
    "        print(info)\n",
    "        talk(info)\n",
    "    elif \"which\" in command:\n",
    "        person=command.replace('which','')\n",
    "        info=wikipedia.summary(person,5)\n",
    "        print(info)\n",
    "        talk(info)\n",
    "    else:\n",
    "        talk(\"am  only a talking bot ...am not got\")"
   ]
  },
  {
   "cell_type": "code",
   "execution_count": null,
   "id": "5d01a8b5",
   "metadata": {},
   "outputs": [],
   "source": []
  }
 ],
 "metadata": {
  "kernelspec": {
   "display_name": "Python 3",
   "language": "python",
   "name": "python3"
  },
  "language_info": {
   "codemirror_mode": {
    "name": "ipython",
    "version": 3
   },
   "file_extension": ".py",
   "mimetype": "text/x-python",
   "name": "python",
   "nbconvert_exporter": "python",
   "pygments_lexer": "ipython3",
   "version": "3.6.13"
  }
 },
 "nbformat": 4,
 "nbformat_minor": 5
}
