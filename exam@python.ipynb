{
 "cells": [
  {
   "cell_type": "markdown",
   "metadata": {},
   "source": [
    "# Q1"
   ]
  },
  {
   "cell_type": "code",
   "execution_count": 1,
   "metadata": {},
   "outputs": [
    {
     "name": "stdout",
     "output_type": "stream",
     "text": [
      "Enter your Message  Ranjit is 23 years old,he have 5 choclate\n",
      "The Orginal massage :: Ranjit is 23 years old,he have 5 choclate\n",
      "The Digits:: 2\n",
      "The Orginal massage :: Ranjit is 23 years old,he have 5 choclate\n",
      "The Digits:: 3\n",
      "The Orginal massage :: Ranjit is 23 years old,he have 5 choclate\n",
      "The Digits:: 5\n",
      "The Sum Of The Digits: 10\n"
     ]
    }
   ],
   "source": [
    "message=str(input(\"Enter your Message  \"))\n",
    "sum_digit=0\n",
    "for x in message:\n",
    "    if x.isdigit() == True:\n",
    "        print(\"The Orginal massage ::\",message)\n",
    "        print(\"The Digits::\",x)\n",
    "        z = int(x)\n",
    "        sum_digit = sum_digit + z\n",
    "if sum_digit!=0:\n",
    "    print(\"The Sum Of The Digits:\",sum_digit)\n",
    "else:\n",
    "    print(\"The Orginal message ::\",message)\n",
    "    print('A message Has no Digits')"
   ]
  },
  {
   "cell_type": "markdown",
   "metadata": {},
   "source": [
    "# Q3"
   ]
  },
  {
   "cell_type": "code",
   "execution_count": 3,
   "metadata": {},
   "outputs": [
    {
     "ename": "SyntaxError",
     "evalue": "EOL while scanning string literal (<ipython-input-3-1d54808bd810>, line 1)",
     "output_type": "error",
     "traceback": [
      "\u001b[1;36m  File \u001b[1;32m\"<ipython-input-3-1d54808bd810>\"\u001b[1;36m, line \u001b[1;32m1\u001b[0m\n\u001b[1;33m    file=open('INDIA.TXT','r')'\u001b[0m\n\u001b[1;37m                               ^\u001b[0m\n\u001b[1;31mSyntaxError\u001b[0m\u001b[1;31m:\u001b[0m EOL while scanning string literal\n"
     ]
    }
   ],
   "source": [
    "file=open('INDIA.TXT','r')'\n",
    "t.read(f)\n",
    "count=0\n",
    "for I in t.split():\n",
    "\n",
    "    if I =='India':\n",
    "        count=count+1\n",
    "\n",
    "print( count)"
   ]
  },
  {
   "cell_type": "markdown",
   "metadata": {},
   "source": [
    "# Q2"
   ]
  },
  {
   "cell_type": "code",
   "execution_count": 4,
   "metadata": {},
   "outputs": [
    {
     "name": "stdout",
     "output_type": "stream",
     "text": [
      "A Cylinder with\n",
      "Radius: 4\n",
      "Height: 10\n",
      "It's volume is 502.40000000000003\n"
     ]
    }
   ],
   "source": [
    "class Container():\n",
    "    def __init__(self,radius,height):\n",
    "        self.radius = radius\n",
    "        self.height = height\n",
    "    def _str_(self):\n",
    "        return \"Radius: \"+ str(self.radius) + \", Height: \" + str(self.height)\n",
    " \n",
    "    def getRadius(self):\n",
    "        return self.radius\n",
    "    def getHeight(self):\n",
    "        return self.height\n",
    "    def getVolume(self):\n",
    "        return self.radius*self.radius*3.14*self.height\n",
    "    def show_details(self):\n",
    "        print (\"A Cylinder with\")\n",
    "        print (\"Radius: \"+str(cd.getRadius()))\n",
    "        print (\"Height: \"+ str(cd.getHeight()))\n",
    "        print (\"It's volume is \"+str(cd.getVolume()))\n",
    "        \n",
    " \n",
    "#Creating a cylinder object from the Cylinder class\n",
    "cd=Container(4,10)\n",
    " \n",
    "cd.show_details()"
   ]
  },
  {
   "cell_type": "markdown",
   "metadata": {},
   "source": [
    "# Q6"
   ]
  },
  {
   "cell_type": "code",
   "execution_count": null,
   "metadata": {
    "scrolled": true
   },
   "outputs": [],
   "source": [
    "dict1 = {\"Mercury\" : 100, \"Venus\" : 200, \"Earth\" : 300}\n",
    "dict2 = {\"Star\" : 500, \"Moon\" : 600, \"Sun\" : 700}\n",
    "  \n",
    "# printing original dictionaries\n",
    "print(\"The original dictionary 1 is : \" + str(dict1))\n",
    "print(\"The original dictionary 2 is : \" + str(dict2))\n",
    "  \n",
    "# extracting keys and values\n",
    "keys1 = list(dict1.keys())\n",
    "vals2 = list(dict2.values())\n",
    "  \n",
    "# assigning new values \n",
    "final_mapped_dict = dict()\n",
    "for idx in range(len(keys1)):\n",
    "    final_mapped_dict[keys1[idx]] = vals2[idx]\n",
    "      \n",
    "# printing result \n",
    "print(\"Mapped dictionary : \" + str(final_mapped_dict)) "
   ]
  },
  {
   "cell_type": "markdown",
   "metadata": {},
   "source": [
    "# Q7"
   ]
  },
  {
   "cell_type": "code",
   "execution_count": null,
   "metadata": {
    "scrolled": true
   },
   "outputs": [],
   "source": [
    "test_list = [5, 6, -3, -8, 9, 11, -12, 2,4] \n",
    "import math\n",
    "print(\"The original list is : \" + str(test_list))\n",
    "square_root=[]\n",
    "negtive=[]\n",
    "for i in test_list:\n",
    "    if i<0:\n",
    "        negtive.append(i)\n",
    "        \n",
    "    else :\n",
    "        k=i**0.5#(finding The Sqrt)\n",
    "        square_root.append(k)\n",
    "print(\"List of negetive values : \" + str(negtive))\n",
    "print(\"List of square_root values : \" + str(square_root))"
   ]
  },
  {
   "cell_type": "markdown",
   "metadata": {},
   "source": [
    "# Q4"
   ]
  },
  {
   "cell_type": "code",
   "execution_count": null,
   "metadata": {},
   "outputs": [],
   "source": [
    "class Book():\n",
    "    def __init__(self,title,publishers,price):\n",
    "        self.title = title\n",
    "        self.publishers = publishers\n",
    "        self.price=price\n",
    "    def title(self):\n",
    "        return self.title\n",
    "    def publishers(self):\n",
    "        return self.publishers\n",
    "    def price(self):\n",
    "        return(self.price)\n",
    "    def showdtails(self):\n",
    "        discount=self.price*100/15\n",
    "        after_discountprice=self.price-discount\n",
    "        print(\"Book_Name  ::\",self.title)\n",
    "        print(\"publisher  \" ,self.publishers)\n",
    "        print(\"price::\",self.price)\n",
    "        print(\"price _After_Discount_price::\",discount)"
   ]
  },
  {
   "cell_type": "code",
   "execution_count": null,
   "metadata": {},
   "outputs": [],
   "source": [
    "b=Book(\"ram\",\"syam\",800)"
   ]
  },
  {
   "cell_type": "code",
   "execution_count": null,
   "metadata": {
    "scrolled": true
   },
   "outputs": [],
   "source": [
    "b.showdtails()"
   ]
  },
  {
   "cell_type": "markdown",
   "metadata": {},
   "source": [
    "# Q5"
   ]
  },
  {
   "cell_type": "code",
   "execution_count": null,
   "metadata": {},
   "outputs": [],
   "source": [
    "class simpleintrest:\n",
    "    def __init__(self,principal,intrest_rate,time):\n",
    "        self.principal=principal\n",
    "        self.intrest_rate=intrest_rate\n",
    "        self.time=time\n",
    "    def principal(self):\n",
    "        return(self.principal)\n",
    "    def intrest_rate(self):\n",
    "        return(self.intrest_rate)\n",
    "    def time(self):\n",
    "        return(self.time)\n",
    "    def show_details(self):\n",
    "        \n",
    "        SMI=(self.principal*self.intrest_rate*self.time)/100\n",
    "        print(\"Principal Ammount::\",self.principal)\n",
    "        print(\"Intrestrate::\",self.intrest_rate)\n",
    "        print(\"Time::\",self.time)\n",
    "        print(\"Simple_intrest for Above Data is ::\",str(SMI))"
   ]
  },
  {
   "cell_type": "code",
   "execution_count": null,
   "metadata": {},
   "outputs": [],
   "source": [
    "smi=simpleintrest(100000,5,24)"
   ]
  },
  {
   "cell_type": "code",
   "execution_count": null,
   "metadata": {},
   "outputs": [],
   "source": [
    "smi.show_details()"
   ]
  },
  {
   "cell_type": "code",
   "execution_count": null,
   "metadata": {},
   "outputs": [],
   "source": []
  },
  {
   "cell_type": "code",
   "execution_count": null,
   "metadata": {},
   "outputs": [],
   "source": []
  },
  {
   "cell_type": "code",
   "execution_count": null,
   "metadata": {},
   "outputs": [],
   "source": []
  }
 ],
 "metadata": {
  "kernelspec": {
   "display_name": "Python 3",
   "language": "python",
   "name": "python3"
  },
  "language_info": {
   "codemirror_mode": {
    "name": "ipython",
    "version": 3
   },
   "file_extension": ".py",
   "mimetype": "text/x-python",
   "name": "python",
   "nbconvert_exporter": "python",
   "pygments_lexer": "ipython3",
   "version": "3.6.10"
  }
 },
 "nbformat": 4,
 "nbformat_minor": 4
}
